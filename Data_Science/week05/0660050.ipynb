{
 "cells": [
  {
   "cell_type": "code",
   "execution_count": 1,
   "metadata": {},
   "outputs": [
    {
     "name": "stderr",
     "output_type": "stream",
     "text": [
      "/home/tony/anaconda3/lib/python3.6/site-packages/h5py/__init__.py:36: FutureWarning: Conversion of the second argument of issubdtype from `float` to `np.floating` is deprecated. In future, it will be treated as `np.float64 == np.dtype(float).type`.\n",
      "  from ._conv import register_converters as _register_converters\n",
      "Using TensorFlow backend.\n"
     ]
    }
   ],
   "source": [
    "import numpy as np\n",
    "import matplotlib.pyplot as plt\n",
    "import pandas as pd\n",
    "import matplotlib.pyplot as plt\n",
    "import matplotlib\n",
    "import csv\n",
    "\n",
    "\n",
    "from sklearn.feature_extraction.text import CountVectorizer\n",
    "from keras.preprocessing.text import Tokenizer\n",
    "from keras.preprocessing.sequence import pad_sequences\n",
    "from keras.models import Sequential\n",
    "from keras.layers import Dense, Embedding, LSTM\n",
    "from sklearn.model_selection import train_test_split\n",
    "from keras.utils.np_utils import to_categorical\n",
    "import re\n",
    "import json\n",
    "import tensorflow as tf\n",
    "\n",
    "from keras.backend.tensorflow_backend import set_session\n",
    "config = tf.ConfigProto()\n",
    "config.gpu_options.allocator_type = 'BFC' #A \"Best-fit with coalescing\" algorithm, simplified from a version of dlmalloc.\n",
    "config.gpu_options.per_process_gpu_memory_fraction = 0.3\n",
    "config.gpu_options.allow_growth = True\n",
    "set_session(tf.Session(config=config)) \n"
   ]
  },
  {
   "cell_type": "code",
   "execution_count": 2,
   "metadata": {},
   "outputs": [
    {
     "name": "stdout",
     "output_type": "stream",
     "text": [
      "1280000\n",
      "(1600000,)\n"
     ]
    }
   ],
   "source": [
    "train_dataset = pd.read_csv('train.csv')\n",
    "test_dataset = pd.read_csv('test.csv')\n",
    "\n",
    "X = train_dataset.iloc[:, 5]\n",
    "\n",
    "\n",
    "X_ = test_dataset.iloc[:, 4]\n",
    "\n",
    "dataset_text = X.append(X_)\n",
    "\n",
    "train_objs_num = len(X)\n",
    "print(train_objs_num)\n",
    "print(dataset_text.shape)"
   ]
  },
  {
   "cell_type": "code",
   "execution_count": 3,
   "metadata": {
    "scrolled": true
   },
   "outputs": [
    {
     "name": "stdout",
     "output_type": "stream",
     "text": [
      "Done\n"
     ]
    }
   ],
   "source": [
    "# Data preprocessing\n",
    "data_pre = dataset_text\n",
    "data_pre = data_pre.apply(lambda x:x.lower())\n",
    "data_pre = data_pre.apply(lambda x: re.sub('[^a-zA-z0-9\\s]','',x)) #Remove all characters not a~z and 0~9\n",
    "\n",
    "tokenizer = Tokenizer(num_words = 2500, split=' ')\n",
    "tokenizer.fit_on_texts(data_pre.values)\n",
    "data_pre = tokenizer.texts_to_sequences(data_pre.values)\n",
    "data_pre = pad_sequences(data_pre)\n",
    "\n",
    "print(\"Done\")"
   ]
  },
  {
   "cell_type": "code",
   "execution_count": 4,
   "metadata": {
    "scrolled": true
   },
   "outputs": [
    {
     "name": "stdout",
     "output_type": "stream",
     "text": [
      "(1600000, 40)\n",
      "1280000\n",
      "(1280000, 40)\n",
      "(1280000,)\n",
      "(320000, 40)\n"
     ]
    },
    {
     "data": {
      "text/plain": [
       "array([[   0,    0,    0, ..., 1506, 1507,  710],\n",
       "       [   0,    0,    0, ...,  369,   89,   49],\n",
       "       [   0,    0,    0, ...,  286, 2067,   28],\n",
       "       ...,\n",
       "       [   0,    0,    0, ...,  346,   10,  434],\n",
       "       [   0,    0,    0, ...,    4,  296,  159],\n",
       "       [   0,    0,    0, ...,  115,  403,  200]], dtype=int32)"
      ]
     },
     "execution_count": 4,
     "metadata": {},
     "output_type": "execute_result"
    }
   ],
   "source": [
    "print(data_pre.shape)\n",
    "print(train_objs_num)\n",
    "\n",
    "X = data_pre[:train_objs_num]\n",
    "test = data_pre[train_objs_num:]\n",
    "\n",
    "y = train_dataset.iloc[:, 0]\n",
    "\n",
    "print(X.shape)\n",
    "print(y.shape)\n",
    "print(test.shape)\n",
    "X"
   ]
  },
  {
   "cell_type": "code",
   "execution_count": 10,
   "metadata": {
    "scrolled": true
   },
   "outputs": [
    {
     "name": "stderr",
     "output_type": "stream",
     "text": [
      "/home/tony/anaconda3/lib/python3.6/site-packages/ipykernel_launcher.py:6: UserWarning: The `dropout` argument is no longer support in `Embedding`. You can apply a `keras.layers.SpatialDropout1D` layer right after the `Embedding` layer to get the same behavior.\n",
      "  \n",
      "/home/tony/anaconda3/lib/python3.6/site-packages/ipykernel_launcher.py:7: UserWarning: Update your `LSTM` call to the Keras 2 API: `LSTM(350, dropout=0.2, recurrent_dropout=0.2)`\n",
      "  import sys\n"
     ]
    },
    {
     "name": "stdout",
     "output_type": "stream",
     "text": [
      "Epoch 1/10\n",
      "1024000/1024000 [==============================] - 102s 100us/step - loss: 0.4619 - acc: 0.7796\n",
      "Epoch 2/10\n",
      "1024000/1024000 [==============================] - 104s 102us/step - loss: 0.4284 - acc: 0.8003\n",
      "Epoch 3/10\n",
      "1024000/1024000 [==============================] - 106s 103us/step - loss: 0.4187 - acc: 0.8058\n",
      "Epoch 4/10\n",
      "1024000/1024000 [==============================] - 107s 104us/step - loss: 0.4117 - acc: 0.8093\n",
      "Epoch 5/10\n",
      "1024000/1024000 [==============================] - 107s 105us/step - loss: 0.4053 - acc: 0.8127\n",
      "Epoch 6/10\n",
      "1024000/1024000 [==============================] - 108s 105us/step - loss: 0.3994 - acc: 0.8159\n",
      "Epoch 7/10\n",
      "1024000/1024000 [==============================] - 108s 106us/step - loss: 0.3939 - acc: 0.8191\n",
      "Epoch 8/10\n",
      "1024000/1024000 [==============================] - 108s 106us/step - loss: 0.3884 - acc: 0.8222\n",
      "Epoch 9/10\n",
      "1024000/1024000 [==============================] - 108s 105us/step - loss: 0.3828 - acc: 0.8250\n",
      "Epoch 10/10\n",
      "1024000/1024000 [==============================] - 108s 106us/step - loss: 0.3774 - acc: 0.8280\n",
      "Logloss score: 0.40\n",
      "Validation set Accuracy: 0.82\n"
     ]
    }
   ],
   "source": [
    "embed_dim = 128\n",
    "lstm_out = 350\n",
    "batch_size= 1000\n",
    "\n",
    "model = Sequential()\n",
    "model.add(Embedding(2500, embed_dim,input_length = X.shape[1], dropout=0.1))\n",
    "model.add(LSTM(lstm_out, dropout_U=0.2, dropout_W=0.2))\n",
    "model.add(Dense(2,activation='sigmoid'))\n",
    "model.compile(loss = 'categorical_crossentropy', optimizer='adam',metrics = ['accuracy'])\n",
    "\n",
    "Y = pd.get_dummies(y).values\n",
    "X_train, X_valid, Y_train, Y_valid = train_test_split(X, Y, test_size = 0.20, random_state = 36)\n",
    "\n",
    "#Here we train the Network.\n",
    "\n",
    "model.fit(X_train, Y_train, batch_size = batch_size, epochs = 10,  verbose = 1)\n",
    "\n",
    "# Measuring score and accuracy on validation set\n",
    "\n",
    "score,acc = model.evaluate(X_valid, Y_valid, verbose = 2, batch_size = batch_size)\n",
    "print(\"Logloss score: %.2f\" % (score))\n",
    "print(\"Validation set Accuracy: %.2f\" % (acc))"
   ]
  },
  {
   "cell_type": "code",
   "execution_count": 11,
   "metadata": {},
   "outputs": [
    {
     "name": "stdout",
     "output_type": "stream",
     "text": [
      "320000/320000 [==============================] - 163s 510us/step\n"
     ]
    }
   ],
   "source": [
    "pred = model.predict(test, verbose=1)"
   ]
  },
  {
   "cell_type": "code",
   "execution_count": 7,
   "metadata": {},
   "outputs": [
    {
     "data": {
      "text/plain": [
       "array([[1, 0],\n",
       "       [0, 1],\n",
       "       [1, 0],\n",
       "       ...,\n",
       "       [1, 0],\n",
       "       [1, 0],\n",
       "       [0, 1]], dtype=uint8)"
      ]
     },
     "execution_count": 7,
     "metadata": {},
     "output_type": "execute_result"
    }
   ],
   "source": [
    "pred\n",
    "Y_valid"
   ]
  },
  {
   "cell_type": "code",
   "execution_count": 12,
   "metadata": {},
   "outputs": [
    {
     "name": "stdout",
     "output_type": "stream",
     "text": [
      "Done\n"
     ]
    }
   ],
   "source": [
    "with open('output.csv', 'w+') as csvfile:\n",
    "    writer = csv.writer(csvfile)\n",
    "    writer.writerow(['ID', 'Sentiment'])\n",
    "    for i in range(len(pred)):\n",
    "        writer.writerow([i, pred[i][1]*4])\n",
    "\n",
    "print (\"Done\")"
   ]
  }
 ],
 "metadata": {
  "kernelspec": {
   "display_name": "Python 3",
   "language": "python",
   "name": "python3"
  }
 },
 "nbformat": 4,
 "nbformat_minor": 2
}
